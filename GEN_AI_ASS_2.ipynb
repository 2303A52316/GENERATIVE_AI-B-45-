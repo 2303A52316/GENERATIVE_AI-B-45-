{
  "nbformat": 4,
  "nbformat_minor": 0,
  "metadata": {
    "colab": {
      "provenance": [],
      "authorship_tag": "ABX9TyONSr8mh/gJ9Ib7fjySWcjB",
      "include_colab_link": true
    },
    "kernelspec": {
      "name": "python3",
      "display_name": "Python 3"
    },
    "language_info": {
      "name": "python"
    }
  },
  "cells": [
    {
      "cell_type": "markdown",
      "metadata": {
        "id": "view-in-github",
        "colab_type": "text"
      },
      "source": [
        "<a href=\"https://colab.research.google.com/github/2303A52316/GENERATIVE_AI-B-45-/blob/main/GEN_AI_ASS_2.ipynb\" target=\"_parent\"><img src=\"https://colab.research.google.com/assets/colab-badge.svg\" alt=\"Open In Colab\"/></a>"
      ]
    },
    {
      "cell_type": "markdown",
      "source": [
        "prob-1"
      ],
      "metadata": {
        "id": "A-_1nYddtA3_"
      }
    },
    {
      "cell_type": "code",
      "execution_count": null,
      "metadata": {
        "colab": {
          "base_uri": "https://localhost:8080/"
        },
        "id": "bpyl3GrKs5ux",
        "outputId": "a304ba46-b201-4e8d-d95e-fa7c9a1a118c"
      },
      "outputs": [
        {
          "output_type": "stream",
          "name": "stdout",
          "text": [
            "Optimal number of units of A: 2.00\n",
            "Optimal number of units of B: 3.00\n",
            "Maximum profit: Rs 27.00\n"
          ]
        }
      ],
      "source": [
        "from scipy.optimize import linprog\n",
        "c = [-6, -5]\n",
        "A = [\n",
        "    [1, 1],    # x + y <= 5\n",
        "    [3, 2]     # 3x + 2y <= 12\n",
        "]\n",
        "b = [5, 12]\n",
        "x_bounds = (0, None)\n",
        "y_bounds = (0, None)\n",
        "result = linprog(c, A_ub=A, b_ub=b, bounds=[x_bounds, y_bounds], method='highs')\n",
        "if result.success:\n",
        "    print(f\"Optimal number of units of A: {result.x[0]:.2f}\")\n",
        "    print(f\"Optimal number of units of B: {result.x[1]:.2f}\")\n",
        "    print(f\"Maximum profit: Rs {-result.fun:.2f}\")\n",
        "else:\n",
        "    print(\"No optimal solution found\")"
      ]
    },
    {
      "cell_type": "markdown",
      "source": [
        "prob-2"
      ],
      "metadata": {
        "id": "hIZ2C52J14xp"
      }
    },
    {
      "cell_type": "code",
      "source": [
        "from scipy.optimize import linprog\n",
        "c = [-50, -120]\n",
        "A = [\n",
        "    [1, 1],\n",
        "    [7000, 2000],\n",
        "    [10, 30]\n",
        "]\n",
        "b = [110, 700000, 1200]\n",
        "x0_bounds = (0, None)\n",
        "x1_bounds = (0, None)\n",
        "result = linprog(c, A_ub=A, b_ub=b, bounds=[x0_bounds, x1_bounds], method='highs')\n",
        "if result.success:\n",
        "    print(f\"Optimal Solution: Plant {result.x[0]:.2f} hectares of Wheat and {result.x[1]:.2f} hectares of Barley.\")\n",
        "    print(f\"Maximum Profit: Rs { -result.fun:.2f}\")\n",
        "else:\n",
        "    print(\"No solution found.\")\n"
      ],
      "metadata": {
        "colab": {
          "base_uri": "https://localhost:8080/"
        },
        "id": "oFtg4Z_E16xZ",
        "outputId": "53bac07d-d5c6-4326-c639-7c622b8ca619"
      },
      "execution_count": 5,
      "outputs": [
        {
          "output_type": "stream",
          "name": "stdout",
          "text": [
            "Optimal Solution: Plant 97.89 hectares of Wheat and 7.37 hectares of Barley.\n",
            "Maximum Profit: Rs 5778.95\n"
          ]
        }
      ]
    }
  ]
}